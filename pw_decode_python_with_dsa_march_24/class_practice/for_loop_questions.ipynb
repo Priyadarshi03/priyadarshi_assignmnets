{
 "cells": [
  {
   "cell_type": "code",
   "execution_count": null,
   "metadata": {},
   "outputs": [],
   "source": [
    "'''\n",
    "Question:\n",
    "Write a Python program to find the sum of all even numbers 1 to 20\n",
    "using for loop.\n",
    "'''\n",
    "sum = 0\n",
    "\n",
    "for num in range(1, 21):\n",
    "    if num%2==0 :\n",
    "        sum += num\n",
    "\n",
    "print(\"sum of even numvers are\", sum)"
   ]
  },
  {
   "cell_type": "code",
   "execution_count": null,
   "metadata": {},
   "outputs": [],
   "source": [
    "'''\n",
    "Question:\n",
    "Write a Python program to count the number of vowels in a given string\n",
    "'''\n",
    "\n",
    "string = input(\"Please provide the string: \")\n",
    "\n",
    "count = 0\n",
    "\n",
    "for ch in string:\n",
    "    # Check if ch is a vowel or not\n",
    "    if ch.lower() in ['a', 'e', 'i', 'o', 'u']:\n",
    "        count += 1\n",
    "\n",
    "print(\"Total count of vowels is\", count)\n"
   ]
  },
  {
   "cell_type": "code",
   "execution_count": 1,
   "metadata": {},
   "outputs": [
    {
     "name": "stdout",
     "output_type": "stream",
     "text": [
      "Your name is  Anand\n"
     ]
    }
   ],
   "source": [
    "name  = input(\"Enter you name : \")\n",
    "\n",
    "print(\"Your name is \", name)"
   ]
  },
  {
   "cell_type": "code",
   "execution_count": null,
   "metadata": {},
   "outputs": [],
   "source": [
    "'''\n",
    "Write a Python program to print the fibonacci series upto n terms\n",
    "1,1,2,3,5,8,13.............\n",
    "'''\n",
    "\n",
    "n = int(input(\"Please enter the value of n upto which we want the fibonacci series\"))\n",
    "\n",
    "if (n <=0):\n",
    "    print(\"Number entered is not correct.It should be > 0. Entered number\", n)\n",
    "\n",
    "print(1, end=\",\")\n",
    "if(n==1):\n",
    "    pass\n",
    "else:\n",
    "    print(1, end=\"\")\n",
    "\n",
    "\n"
   ]
  },
  {
   "cell_type": "code",
   "execution_count": null,
   "metadata": {},
   "outputs": [],
   "source": []
  }
 ],
 "metadata": {
  "kernelspec": {
   "display_name": "Python 3",
   "language": "python",
   "name": "python3"
  },
  "language_info": {
   "codemirror_mode": {
    "name": "ipython",
    "version": 3
   },
   "file_extension": ".py",
   "mimetype": "text/x-python",
   "name": "python",
   "nbconvert_exporter": "python",
   "pygments_lexer": "ipython3",
   "version": "3.12.0"
  }
 },
 "nbformat": 4,
 "nbformat_minor": 2
}
