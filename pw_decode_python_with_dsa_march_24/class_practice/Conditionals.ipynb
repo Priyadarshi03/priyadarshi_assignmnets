{
 "cells": [
  {
   "cell_type": "code",
   "execution_count": 3,
   "metadata": {},
   "outputs": [
    {
     "name": "stdout",
     "output_type": "stream",
     "text": [
      "Today is Friday\n"
     ]
    }
   ],
   "source": [
    "#match and case\n",
    "day_num = 5\n",
    "\n",
    "match day_num :\n",
    "    case 1:\n",
    "        print(\"Today is Monday\")\n",
    "    case 2:\n",
    "        print(\"Today is Tuesday\")\n",
    "    case 3:\n",
    "        print(\"Today is Wednesdayy\")\n",
    "    case 4:\n",
    "        print(\"Today is Thursday\")\n",
    "    case 5:\n",
    "        print(\"Today is Friday\")\n",
    "    case 6:\n",
    "        print(\"Today is Saturday\")\n",
    "    case 7:\n",
    "        print(\"Today is Sunday\")\n",
    "    case _ :\n",
    "        print(\"Invalid day number\")"
   ]
  }
 ],
 "metadata": {
  "kernelspec": {
   "display_name": "Python 3",
   "language": "python",
   "name": "python3"
  },
  "language_info": {
   "codemirror_mode": {
    "name": "ipython",
    "version": 3
   },
   "file_extension": ".py",
   "mimetype": "text/x-python",
   "name": "python",
   "nbconvert_exporter": "python",
   "pygments_lexer": "ipython3",
   "version": "3.12.0"
  }
 },
 "nbformat": 4,
 "nbformat_minor": 2
}
